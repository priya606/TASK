{
  "nbformat": 4,
  "nbformat_minor": 0,
  "metadata": {
    "colab": {
      "name": "TASK.ipynb",
      "provenance": [],
      "collapsed_sections": [],
      "authorship_tag": "ABX9TyN3ex2i26df5Bh3FKPyq4h3",
      "include_colab_link": true
    },
    "kernelspec": {
      "name": "python3",
      "display_name": "Python 3"
    },
    "language_info": {
      "name": "python"
    }
  },
  "cells": [
    {
      "cell_type": "markdown",
      "metadata": {
        "id": "view-in-github",
        "colab_type": "text"
      },
      "source": [
        "<a href=\"https://colab.research.google.com/github/priya606/TASK/blob/main/TASK.ipynb\" target=\"_parent\"><img src=\"https://colab.research.google.com/assets/colab-badge.svg\" alt=\"Open In Colab\"/></a>"
      ]
    },
    {
      "cell_type": "markdown",
      "source": [
        "### Q1 Using conditional statement\n",
        "\t- You need to take a input from the user is for password, you need to check the following criteria\n",
        "\t- The length of the input should be greater than 5 & less than or equal to 16 character\n",
        "\t- In the password there should be atleast 1 capital letter & 1 smaller letter\n",
        "\t\tif( range of the character in the Ascii value of your letter)\n",
        "\t- there should be atleast 1 number\n",
        "\t- there should be atleast 1 special character , @ # $ &\n",
        "\t- If the password follows all the criteria prints out a message \"Password is matched\"\n",
        "\t\totherwise try to take a input again from the user\n",
        "    Hint : ord() method & chr() works with ASCII value of your character"
      ],
      "metadata": {
        "id": "6rDx_UCuA3Kv"
      }
    },
    {
      "cell_type": "code",
      "source": [
        "import re\n",
        "p= input(\"Input your password:\")\n",
        "x = True\n",
        "while x:  \n",
        "    if (len(p)>5 or len(p)<16):\n",
        "        break\n",
        "    elif not re.search(\"[a-z]\",p):\n",
        "        break\n",
        "    elif not re.search(\"[0-9]\",p):\n",
        "        break\n",
        "    elif not re.search(\"[A-Z]\",p):\n",
        "        break\n",
        "    elif not re.search(\"[&$#@]\",p):\n",
        "        break\n",
        "    elif re.search(\"\\s\",p):\n",
        "        break\n",
        "    else:\n",
        "        print(\"Password is matched\")\n",
        "        x=False\n",
        "        break\n",
        "\n",
        "if x:\n",
        "    print(\"Not a Valid Password\")"
      ],
      "metadata": {
        "id": "u3epbhyZA_LE",
        "colab": {
          "base_uri": "https://localhost:8080/"
        },
        "outputId": "afe2bcc6-d81b-42e2-ce45-3b7ffc1e47e4"
      },
      "execution_count": 39,
      "outputs": [
        {
          "output_type": "stream",
          "name": "stdout",
          "text": [
            "Input your password:kFRFHghw123\n",
            "Not a Valid Password\n"
          ]
        }
      ]
    },
    {
      "cell_type": "markdown",
      "source": [
        "## Q2 Take a string as input from the user & try to see whether it's a palindrome or not\n",
        "\t'NAMAN'\n",
        "\t- Try to execute it with the slicing & indexing\n",
        "\t- without the slicing & indexing"
      ],
      "metadata": {
        "id": "HCBUIycjCyFp"
      }
    },
    {
      "cell_type": "code",
      "source": [
        "a='NAMAN'\n",
        "print(a[0:5])\n",
        "print('*********')\n",
        "print(a[0])\n",
        "print(a[1])\n",
        "print(a[2])\n",
        "print(a[3])\n",
        "print(a[4])"
      ],
      "metadata": {
        "colab": {
          "base_uri": "https://localhost:8080/"
        },
        "id": "NsoDbcU0C3Cw",
        "outputId": "943bf12e-71a5-44f9-83f3-2b3c5298dd81"
      },
      "execution_count": null,
      "outputs": [
        {
          "output_type": "stream",
          "name": "stdout",
          "text": [
            "NAMAN\n",
            "*********\n",
            "N\n",
            "A\n",
            "M\n",
            "A\n",
            "N\n"
          ]
        }
      ]
    },
    {
      "cell_type": "code",
      "source": [
        "def palindrome(a1):\n",
        "  reversed_string=a1[::-1]\n",
        "  if (reversed_string==a1):\n",
        "    print('YES')\n",
        "  else:\n",
        "    print('NO')\n",
        "palindrome('NAMAN')\n",
        "palindrome('PYTHON')"
      ],
      "metadata": {
        "colab": {
          "base_uri": "https://localhost:8080/"
        },
        "id": "sNRXHifoDhN1",
        "outputId": "bf571695-c51c-4412-eaae-40dc4e49280f"
      },
      "execution_count": null,
      "outputs": [
        {
          "output_type": "stream",
          "name": "stdout",
          "text": [
            "YES\n",
            "NO\n"
          ]
        }
      ]
    }
  ]
}